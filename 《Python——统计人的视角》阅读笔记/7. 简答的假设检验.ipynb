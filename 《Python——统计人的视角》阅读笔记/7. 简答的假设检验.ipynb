{
 "cells": [
  {
   "cell_type": "markdown",
   "metadata": {},
   "source": [
    "### 单样本和两样本均值的t检验\n",
    "#### 单样本（单样本、独立样本、配对样本？）\n",
    "用来自同一正态分布总体$N(\\mu,\\delta^2)$的独立观测值来检验总体均值是否为某预想值：\n",
    "$$H_0:\\mu=\\mu_0$$, $$H_1:\\mu!=\\mu_0$$\n",
    "检验统计量为:\n",
    "$$t=\\cfrac{X^--\\mu_0}{\\cfrac{s}{\\sqrt[2]{n}'}}$$\n",
    "$X^-$为样本均值，s为样本标准差（自由度=n-1），统计量在零假设下服从自由度为n-1的t分布。\n",
    "#### 两样本\n",
    "来自两个正态分布总体的独立观测值，检验两个总体均值是否相等：\n",
    "$$H_0:\\mu_1=\\mu_2$$, $$H_1:\\mu!=\\mu_2$$\n",
    "检验统计量为：\n",
    "$$t=\\cfrac{X^--Y^-}{\\sqrt[2]{\\cfrac{s_1^2}{n_1}+\\cfrac{s_2^2}{n_2}}'}$$\n",
    "$s_1$和$s_2$分别为2样本的标准差，自由度为$n_1-1$和$n_2-1$，统计量在零假设下服从自由度为v的t分布：\n",
    "$$v=\\cfrac{(s_1^2/n_1+s_2^2/n_2)^2}{(s_1^2/n_1)^2/(n_1-1)+(s_2^2/n_2)^2/(n_2-1)}$$\n",
    "\n",
    "### 统计学简单复习\n",
    "\n",
    "#### 单个总体均数的假设检验（one-sample）\n",
    "从一个总体随机抽取样本，对**未知**的总体平均数与某个**已知**的特定值比较，检验是否相等；\n",
    "* 总体方差已知：用**Z检验**（服从标准正态分布的检验统计量Z）\n",
    "* 总体方差未知：用**t检验**（服从自由度为n-1的t分布）\n",
    "\n",
    "#### 两个总体均数的假设检验\n",
    "##### independent-samples\n",
    "从两个总体分别随机抽取样本，检验两总体均数是否相等；\n",
    "* 两总体方差已知：用**Z检验**\n",
    "* 两总体方差未知，且相等：用**t检验**（服从自由度为$n_1+n_2-2$的t分布）\n",
    "* 两总体方差未知，且不等时，用**校正t检验**（服从自由度小于$n_1+n_2-2$的t分布）\n",
    "\n",
    "##### paired-samples\n",
    "先将参加试验的个体两两配对，再将每一个对子内的两个个体独立随机地接受两个处理中的一种。（配对者初始条件应尽可能一致）==**已知总体均数为0的单个总体均数假设检验**\n",
    "\n",
    "##### 执行步骤\n",
    "正态性检验（p>0.05）→检验两方差相等性：\n",
    "\n",
    "1.显著(p<=0.05)=校正t检验\n",
    "\n",
    "2.不显著(p>0.05)=t检验\n",
    "\n",
    "##### 方差同质性检验\n",
    "Hartley F检验，要求 所有样本的含量均相等；\n",
    "\n",
    "Cochran检验，适用 某个样本方差明显大于其他样本方差；\n",
    "\n",
    "Bartlett检验，适用 检验不同正态总体的方差同质性，可用于样本含量不等情形；**对非正态性敏感**\n",
    "\n",
    "F-test，**对非正态性极其敏感**\n",
    "\n",
    "Levene test，**对非正态性不敏感**"
   ]
  },
  {
   "cell_type": "code",
   "execution_count": 1,
   "metadata": {
    "ExecuteTime": {
     "end_time": "2019-09-30T02:25:15.388455Z",
     "start_time": "2019-09-30T02:25:14.935045Z"
    }
   },
   "outputs": [
    {
     "name": "stdout",
     "output_type": "stream",
     "text": [
      "1 samp test: stat=-2.2800755266700263,p=0.023024247326446163\n",
      "2 samp test: stat=-2.6778343704127923,p=0.0075317461063715285\n"
     ]
    }
   ],
   "source": [
    "#单样本和两样本均值检验\n",
    "import scipy.stats as stats\n",
    "import numpy as np\n",
    "np.random.seed(100)\n",
    "x=np.random.normal(3,1,500)\n",
    "y=np.random.normal(3.2,1,500)\n",
    "stat,p_value=stats.ttest_1samp(x,3.1)\n",
    "stat2,p_value2=stats.ttest_ind(x,y,equal_var=False) #不假定二者方差相等\n",
    "print('1 samp test: stat={},p={}'.format(stat,p_value))\n",
    "print('2 samp test: stat={},p={}'.format(stat2,p_value2))"
   ]
  },
  {
   "cell_type": "code",
   "execution_count": 5,
   "metadata": {
    "ExecuteTime": {
     "end_time": "2019-09-30T02:30:13.209311Z",
     "start_time": "2019-09-30T02:30:13.200016Z"
    }
   },
   "outputs": [
    {
     "data": {
      "text/plain": [
       "0.023206423480015746"
      ]
     },
     "execution_count": 5,
     "metadata": {},
     "output_type": "execute_result"
    }
   ],
   "source": [
    "#关于总体比例的检验（检验Bernoulli试验中，成功的概率p是否等于预想的p0）\n",
    "#假定成功概率为p0，实验中n次下成功x次，检验在n=1000,x=45时是否能说p=0.06\n",
    "stats.binom_test(x=45,n=1000,p=0.06,alternative='less') \n",
    "stats.binom.cdf(45,1000,0.06)                         #效果等同"
   ]
  },
  {
   "cell_type": "code",
   "execution_count": 15,
   "metadata": {
    "ExecuteTime": {
     "end_time": "2019-09-30T02:42:00.216223Z",
     "start_time": "2019-09-30T02:41:59.914098Z"
    }
   },
   "outputs": [
    {
     "name": "stdout",
     "output_type": "stream",
     "text": [
      "chisq=11.37452118903212,p-value=0.9105966619328724\n"
     ]
    },
    {
     "data": {
      "text/plain": [
       "KstestResult(statistic=0.12903975019298514, pvalue=9.672508345946258e-73)"
      ]
     },
     "execution_count": 15,
     "metadata": {},
     "output_type": "execute_result"
    },
    {
     "data": {
      "image/png": "[encoded data removed]",
      "text/plain": [
       "<Figure size 864x360 with 1 Axes>"
      ]
     },
     "metadata": {
      "needs_background": "light"
     },
     "output_type": "display_data"
    }
   ],
   "source": [
    "#拟合优度的卡方检验\n",
    "#检验一组样本观测值是不是来自一个已知分布的总体\n",
    "import matplotlib.pyplot as plt\n",
    "size=5000\n",
    "x=stats.poisson.rvs(10,size=size,random_state=1010)     #随机生成5000个参数为10的泊松分布随机数\n",
    "fig=plt.figure(figsize=(12,5))\n",
    "H=plt.hist(x,20,color='blue',hatch='/')\n",
    "E=np.diff(stats.poisson.cdf(H[1],10))*size              #根据参数为10的泊松分布变量在这些格子中的概率计算出对应期望E\n",
    "O=H[0]\n",
    "chisq,p=stats.chisquare(f_obs=O,f_exp=E)\n",
    "print('chisq={},p-value={}'.format(chisq,p))\n",
    "\n",
    "stats.kstest(x,lambda x : stats.poisson.cdf(x,10))        #Kolmogorov-Smirnov检验"
   ]
  },
  {
   "cell_type": "code",
   "execution_count": 16,
   "metadata": {
    "ExecuteTime": {
     "end_time": "2019-09-30T02:48:51.670478Z",
     "start_time": "2019-09-30T02:48:51.656427Z"
    }
   },
   "outputs": [
    {
     "name": "stdout",
     "output_type": "stream",
     "text": [
      "0.7913236929922135\n",
      "0.6183908045977011\n",
      "(0.8473538029578904, 3.501079933334665e-09)\n"
     ]
    }
   ],
   "source": [
    "#求线性相关系数\n",
    "np.random.seed(1010)\n",
    "x=np.random.normal(1,1,30)\n",
    "y=20+x*2+np.random.uniform(10,15,30)\n",
    "print(stats.spearmanr(x,y)[0])         #Spearman相关系数\n",
    "print(stats.kendalltau(x,y)[0])        #Kendall相关系数\n",
    "print(stats.pearsonr(x,y))             #Pearson相关系数；第2个值是相关系数是否=0的假设检验的p值"
   ]
  },
  {
   "cell_type": "code",
   "execution_count": null,
   "metadata": {},
   "outputs": [],
   "source": []
  }
 ],
 "metadata": {
  "kernelspec": {
   "display_name": "Python 3",
   "language": "python",
   "name": "python3"
  },
  "language_info": {
   "codemirror_mode": {
    "name": "ipython",
    "version": 3
   },
   "file_extension": ".py",
   "mimetype": "text/x-python",
   "name": "python",
   "nbconvert_exporter": "python",
   "pygments_lexer": "ipython3",
   "version": "3.7.3"
  },
  "toc": {
   "base_numbering": 1,
   "nav_menu": {},
   "number_sections": true,
   "sideBar": true,
   "skip_h1_title": false,
   "title_cell": "Table of Contents",
   "title_sidebar": "Contents",
   "toc_cell": false,
   "toc_position": {
    "height": "calc(100% - 180px)",
    "left": "10px",
    "top": "150px",
    "width": "165px"
   },
   "toc_section_display": true,
   "toc_window_display": true
  },
  "varInspector": {
   "cols": {
    "lenName": 16,
    "lenType": 16,
    "lenVar": 40
   },
   "kernels_config": {
    "python": {
     "delete_cmd_postfix": "",
     "delete_cmd_prefix": "del ",
     "library": "var_list.py",
     "varRefreshCmd": "print(var_dic_list())"
    },
    "r": {
     "delete_cmd_postfix": ") ",
     "delete_cmd_prefix": "rm(",
     "library": "var_list.r",
     "varRefreshCmd": "cat(var_dic_list()) "
    }
   },
   "oldHeight": 122.4,
   "position": {
    "height": "144px",
    "left": "1303.6px",
    "right": "20px",
    "top": "120px",
    "width": "212.4px"
   },
   "types_to_exclude": [
    "module",
    "function",
    "builtin_function_or_method",
    "instance",
    "_Feature"
   ],
   "varInspector_section_display": "block",
   "window_display": false
  }
 },
 "nbformat": 4,
 "nbformat_minor": 2
}

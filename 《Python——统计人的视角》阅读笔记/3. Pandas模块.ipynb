{
 "cells": [
  {
   "cell_type": "code",
   "execution_count": 15,
   "metadata": {},
   "outputs": [
    {
     "name": "stdout",
     "output_type": "stream",
     "text": [
      "    x  y    z\n",
      "0   3  7  NaN\n",
      "1  99  1  0.0\n",
      "    x  y\n",
      "0   3  7\n",
      "1  99  1\n"
     ]
    }
   ],
   "source": [
    "import pandas as pd\n",
    "import numpy as np\n",
    "#生成panda数据框\n",
    "d1={'x':3,'y':7}\n",
    "d2={'y':1,'x':99,'z':0}\n",
    "z=pd.DataFrame([d1,d2])\n",
    "print(z)\n",
    "print(z[['x','y']])"
   ]
  },
  {
   "cell_type": "code",
   "execution_count": 4,
   "metadata": {},
   "outputs": [
    {
     "name": "stdout",
     "output_type": "stream",
     "text": [
      "x    102.0\n",
      "y      8.0\n",
      "z      0.0\n",
      "dtype: float64\n"
     ]
    }
   ],
   "source": [
    "#数据框的行列选择（列必须按columns名！）\n",
    "print(z.sum(axis=0))                        #这里axis=0又是对“行”了【？书里说是行，运行是列】；\n",
    "#.mead,.std,.prod,.count,.cumsum命令也可用"
   ]
  },
  {
   "cell_type": "code",
   "execution_count": 13,
   "metadata": {},
   "outputs": [],
   "source": [
    "#数据框文件的存取\n",
    "z.to_csv('test_z.csv',index=False)               #index=False表示存入不带columns名字\n",
    "neww=pd.ExcelWriter('new.xlsx')                  #存入已有的excel文件\n",
    "z.to_excel(neww,'Sheet1',index=False)           #把z存入newSheet1中\n",
    "Z1=pd.read_csv('test_z.csv')\n",
    "Z2=pd.read_excel('new.xlsx','Sheet1')"
   ]
  },
  {
   "cell_type": "code",
   "execution_count": 21,
   "metadata": {},
   "outputs": [
    {
     "name": "stdout",
     "output_type": "stream",
     "text": [
      "a   -1.749765\n",
      "b    0.342680\n",
      "c    1.153036\n",
      "d   -0.252436\n",
      "e    0.981321\n",
      "dtype: float64 \n",
      "\n",
      " a    2\n",
      "b   -3\n",
      "dtype: int64 \n",
      "\n",
      "\n",
      "b    0.342680\n",
      "c    1.153036\n",
      "d   -0.252436\n",
      "e    0.981321\n",
      "dtype: float64\n"
     ]
    }
   ],
   "source": [
    "#关于Pandas序列Series的性质和计算\n",
    "np.random.seed(100)\n",
    "s=pd.Series(np.random.randn(5),index=['a','b','c','d','e'])\n",
    "d=pd.Series({'a':2,'b':-3})\n",
    "print(s,'\\n'*2,d,'\\n'*2)\n",
    "print(s[s>-1])                                  #筛选出大于-1的s中的部分序列"
   ]
  }
 ],
 "metadata": {
  "kernelspec": {
   "display_name": "Python 3",
   "language": "python",
   "name": "python3"
  },
  "language_info": {
   "codemirror_mode": {
    "name": "ipython",
    "version": 3
   },
   "file_extension": ".py",
   "mimetype": "text/x-python",
   "name": "python",
   "nbconvert_exporter": "python",
   "pygments_lexer": "ipython3",
   "version": "3.7.0"
  }
 },
 "nbformat": 4,
 "nbformat_minor": 2
}

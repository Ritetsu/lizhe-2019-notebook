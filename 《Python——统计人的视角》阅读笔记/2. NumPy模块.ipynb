{
 "cells": [
  {
   "cell_type": "code",
   "execution_count": 3,
   "metadata": {},
   "outputs": [
    {
     "data": {
      "text/plain": [
       "array([4, 4, 1, 3, 4, 2, 4, 4, 3, 4, 1, 4, 4, 4, 4, 4, 2, 1, 2, 4])"
      ]
     },
     "execution_count": 3,
     "metadata": {},
     "output_type": "execute_result"
    }
   ],
   "source": [
    "import numpy as np\n",
    "#numpy也有random模块\n",
    "np.random.seed(100)\n",
    "np.random.rand(3,5)    #3乘5的随机矩阵[0.0,1.0)\n",
    "np.random.randn(3,5)   #3乘5的标准正态分布的二维数组\n",
    "np.random.normal(3,5,100)   #100个均值为3，标准差为5的随机数\n",
    "np.random.uniform(3,5,100)  #100个上下界分别为3、5的均匀分布随机数\n",
    "np.random.choice([1,2,3,4],20,replace=True,p=[0.1,0.1,0.1,0.7])    #抽样空间，抽样数，放回=True，各样本概率"
   ]
  },
  {
   "cell_type": "code",
   "execution_count": 4,
   "metadata": {},
   "outputs": [
    {
     "name": "stdout",
     "output_type": "stream",
     "text": [
      "(3, 5) (3, 5) (3, 5) \n",
      " [[ True  True  True  True  True]\n",
      " [ True  True  True  True  True]\n",
      " [ True  True  True  True  True]] \n",
      " [[ True  True  True  True  True]\n",
      " [ True  True  True  True  True]\n",
      " [ True  True  True  True  True]]\n"
     ]
    }
   ],
   "source": [
    "#数据文件的存取\n",
    "x=np.random.randn(3,5)\n",
    "np.savetxt('tabs1.txt',x)                    #以“制表符”分隔的文件\n",
    "np.savetxt('commas1.csv',x,delimiter=',')    #以逗号分隔\n",
    "u=np.loadtxt('commas1.csv',delimiter=',')\n",
    "v=np.loadtxt('tabs1.txt')\n",
    "print(x.shape,u.shape,v.shape,'\\n',x==u,'\\n',x==v)"
   ]
  },
  {
   "cell_type": "code",
   "execution_count": 5,
   "metadata": {},
   "outputs": [
    {
     "name": "stdout",
     "output_type": "stream",
     "text": [
      "[[[  1   4   7]\n",
      "  [  2   5   8]]\n",
      "\n",
      " [[  3   6   9]\n",
      "  [  1  10 100]]]\n",
      "shape= (2, 2, 3) dim= 3\n",
      "<class 'numpy.ndarray'> int32\n"
     ]
    }
   ],
   "source": [
    "#注意区分维数dim和形状shape\n",
    "y=np.array([[[1,4,7],[2,5,8]],[[3,6,9],[1,10,100]]])\n",
    "print(y)\n",
    "print('shape=',np.shape(y),'dim=',np.ndim(y))\n",
    "print(type(y),y.dtype)"
   ]
  },
  {
   "cell_type": "code",
   "execution_count": 6,
   "metadata": {},
   "outputs": [
    {
     "name": "stdout",
     "output_type": "stream",
     "text": [
      "[123.858 112.965 -16.428] [100. 100.  -0.]\n",
      "[123.858 112.965 -16.428] [100. 100.  -0.]\n",
      "[123. 112. -17.] [124. 113. -16.]\n"
     ]
    }
   ],
   "source": [
    "#舍 与 入\n",
    "x=np.array([123.858,112.9652,-16.4278])\n",
    "print(np.round(x,3),np.round(x,-2))    #四舍五入，x后的数字表示保留小数点前/负数则后几位\n",
    "print(np.around(x,3),np.around(x,-2))  #同上\n",
    "print(np.floor(x),np.ceil(x))          #向下（地板）取整，向上（天花板）取整"
   ]
  },
  {
   "cell_type": "code",
   "execution_count": 7,
   "metadata": {},
   "outputs": [
    {
     "name": "stdout",
     "output_type": "stream",
     "text": [
      "220.3954 [123.858  236.8232 220.3954]\n",
      "-229851.92505825651 [ 1.23858000e+02  1.39916437e+04 -2.29851925e+05]\n"
     ]
    },
    {
     "ename": "NameError",
     "evalue": "name 'diff' is not defined",
     "output_type": "error",
     "traceback": [
      "\u001b[1;31m---------------------------------------------------------------------------\u001b[0m",
      "\u001b[1;31mNameError\u001b[0m                                 Traceback (most recent call last)",
      "\u001b[1;32m<ipython-input-7-a6bff76fb772>\u001b[0m in \u001b[0;36m<module>\u001b[1;34m()\u001b[0m\n\u001b[0;32m      2\u001b[0m \u001b[0mprint\u001b[0m\u001b[1;33m(\u001b[0m\u001b[0mnp\u001b[0m\u001b[1;33m.\u001b[0m\u001b[0msum\u001b[0m\u001b[1;33m(\u001b[0m\u001b[0mx\u001b[0m\u001b[1;33m)\u001b[0m\u001b[1;33m,\u001b[0m\u001b[0mnp\u001b[0m\u001b[1;33m.\u001b[0m\u001b[0mcumsum\u001b[0m\u001b[1;33m(\u001b[0m\u001b[0mx\u001b[0m\u001b[1;33m)\u001b[0m\u001b[1;33m)\u001b[0m         \u001b[1;31m#元素求和；累积和\u001b[0m\u001b[1;33m\u001b[0m\u001b[0m\n\u001b[0;32m      3\u001b[0m \u001b[0mprint\u001b[0m\u001b[1;33m(\u001b[0m\u001b[0mnp\u001b[0m\u001b[1;33m.\u001b[0m\u001b[0mprod\u001b[0m\u001b[1;33m(\u001b[0m\u001b[0mx\u001b[0m\u001b[1;33m)\u001b[0m\u001b[1;33m,\u001b[0m\u001b[0mnp\u001b[0m\u001b[1;33m.\u001b[0m\u001b[0mcumprod\u001b[0m\u001b[1;33m(\u001b[0m\u001b[0mx\u001b[0m\u001b[1;33m)\u001b[0m\u001b[1;33m)\u001b[0m       \u001b[1;31m#元素求积；累积乘积\u001b[0m\u001b[1;33m\u001b[0m\u001b[0m\n\u001b[1;32m----> 4\u001b[1;33m \u001b[0mprint\u001b[0m\u001b[1;33m(\u001b[0m\u001b[0mnp\u001b[0m\u001b[1;33m,\u001b[0m\u001b[0mdiff\u001b[0m\u001b[1;33m(\u001b[0m\u001b[0mx\u001b[0m\u001b[1;33m)\u001b[0m\u001b[1;33m)\u001b[0m                     \u001b[1;31m#差分，即后项与前项的差\u001b[0m\u001b[1;33m\u001b[0m\u001b[0m\n\u001b[0m\u001b[0;32m      5\u001b[0m \u001b[1;31m#矩阵情形\u001b[0m\u001b[1;33m\u001b[0m\u001b[1;33m\u001b[0m\u001b[0m\n\u001b[0;32m      6\u001b[0m \u001b[0mx\u001b[0m\u001b[1;33m.\u001b[0m\u001b[0mshape\u001b[0m\u001b[1;33m=\u001b[0m\u001b[1;36m2\u001b[0m\u001b[1;33m,\u001b[0m\u001b[1;36m2\u001b[0m\u001b[1;33m\u001b[0m\u001b[0m\n",
      "\u001b[1;31mNameError\u001b[0m: name 'diff' is not defined"
     ]
    }
   ],
   "source": [
    "#常用的矩阵运算\n",
    "print(np.sum(x),np.cumsum(x))         #元素求和；累积和\n",
    "print(np.prod(x),np.cumprod(x))       #元素求积；累积乘积\n",
    "#矩阵情形\n",
    "x.shape=2,2\n",
    "print(np,diff(x))                     #差分，即后项与前项的差\n",
    "print(x,'\\n',np.diff(x))\n",
    "print(np.diff(x,axis=0))             #按行差分\n",
    "print(np.diff(x,axis=1))             #按列差分"
   ]
  },
  {
   "cell_type": "code",
   "execution_count": 11,
   "metadata": {},
   "outputs": [
    {
     "name": "stdout",
     "output_type": "stream",
     "text": [
      "[[-2  7]\n",
      " [ 9  6]]\n",
      "[[-1  1]\n",
      " [ 1  1]]\n",
      "[[0.69314718 1.94591015]\n",
      " [2.19722458 1.79175947]]\n",
      "[[1.35335283e-01 1.09663316e+03]\n",
      " [8.10308393e+03 4.03428793e+02]]\n",
      "9\n",
      "[7 9]\n",
      "[7 9]\n",
      "[1 0]\n",
      "[[ 9  6]\n",
      " [-2  7]]\n",
      "[3.  3.5 4.  4.5]\n"
     ]
    }
   ],
   "source": [
    "#一些数学运算及 最值获取\n",
    "x=np.array([-2,7,9,6]).reshape(2,2)          #一维到二维\n",
    "print(x)\n",
    "print(np.sign(x))                            #x各元素对于的符号（正/负）\n",
    "print(np.log(np.abs(x)))                     #log\n",
    "print(np.exp(x))                             #e的x次方\n",
    "print(x.max())                               #x内的最大值\n",
    "print(x.max(1))                              #按行求最大值，这里1代表行\n",
    "print(np.max(x,1))\n",
    "print(np.argmax(x,0))                        #按列求最大值，返回该最大值的索引\n",
    "print(x[x.argmax(1)])\n",
    "print(np.arange(3,5,0.5))                    #与普通range()的区别在于np.arange()的参数都可以是浮点型"
   ]
  },
  {
   "cell_type": "code",
   "execution_count": 13,
   "metadata": {},
   "outputs": [
    {
     "name": "stdout",
     "output_type": "stream",
     "text": [
      "[4.  4.4 4.8 5.2 5.6 6.  6.4 6.8] [1 2 3 4]\n",
      "[[4. ]\n",
      " [4.4]\n",
      " [4.8]\n",
      " [5.2]\n",
      " [5.6]\n",
      " [6. ]\n",
      " [6.4]\n",
      " [6.8]] [[1 2 3 4]]\n",
      "[[4. ]\n",
      " [4.4]\n",
      " [4.8]\n",
      " [5.2]\n",
      " [5.6]\n",
      " [6. ]\n",
      " [6.4]\n",
      " [6.8]] [[1 2 3 4]]\n",
      "[[ 4.   8.  12.  16. ]\n",
      " [ 4.4  8.8 13.2 17.6]\n",
      " [ 4.8  9.6 14.4 19.2]\n",
      " [ 5.2 10.4 15.6 20.8]\n",
      " [ 5.6 11.2 16.8 22.4]\n",
      " [ 6.  12.  18.  24. ]\n",
      " [ 6.4 12.8 19.2 25.6]\n",
      " [ 6.8 13.6 20.4 27.2]]\n",
      "[[ 4.   8.  12.  16. ]\n",
      " [ 4.4  8.8 13.2 17.6]\n",
      " [ 4.8  9.6 14.4 19.2]\n",
      " [ 5.2 10.4 15.6 20.8]\n",
      " [ 5.6 11.2 16.8 22.4]\n",
      " [ 6.  12.  18.  24. ]\n",
      " [ 6.4 12.8 19.2 25.6]\n",
      " [ 6.8 13.6 20.4 27.2]]\n"
     ]
    }
   ],
   "source": [
    "#向量转化 做矩阵乘法\n",
    "x=np.arange(4,7,.4)\n",
    "y=np.arange(1,5)\n",
    "print(x,y)\n",
    "print(x[:,np.newaxis],y[np.newaxis,:])                  #以下两种操作效果等同\n",
    "print(x.reshape(len(x),1),y.reshape(1,len(y)))\n",
    "x.shape=len(x),1;y.shape=1,len(y)\n",
    "print(x.dot(y))                                         #以下两种操作效果等同\n",
    "print(np.dot(x,y))"
   ]
  },
  {
   "cell_type": "code",
   "execution_count": 22,
   "metadata": {},
   "outputs": [
    {
     "name": "stdout",
     "output_type": "stream",
     "text": [
      "[[2, 3], [8, 5]] \n",
      "\n",
      " [[2 3]\n",
      " [8 5]]\n"
     ]
    }
   ],
   "source": [
    "#矩阵的转换\n",
    "x=[[2,3],[8,5]]\n",
    "z=np.asmatrix(x)\n",
    "print(x,'\\n'*2,z)"
   ]
  },
  {
   "cell_type": "code",
   "execution_count": 21,
   "metadata": {},
   "outputs": [
    {
     "name": "stdout",
     "output_type": "stream",
     "text": [
      "[[1 2]\n",
      " [3 4]\n",
      " [5 6]\n",
      " [7 8]] \n",
      "\n",
      " [[1 2]\n",
      " [3 4]\n",
      " [5 6]\n",
      " [7 8]] \n",
      "\n",
      " [[1 2 5 6]\n",
      " [3 4 7 8]]\n"
     ]
    }
   ],
   "source": [
    "#矩阵的合并\n",
    "x=np.array([[1,2],[3,4]])\n",
    "y=np.array([[5,6],[7,8]])\n",
    "z=np.concatenate((x,y),axis=0)       #纵向叠加，得4x2\n",
    "z1=np.vstack((x,y))                  #等同于上\n",
    "z2=np.hstack((x,y))                  #等同于axis=1情况\n",
    "print(z,'\\n'*2,z1,'\\n'*2,z2)"
   ]
  },
  {
   "cell_type": "code",
   "execution_count": 23,
   "metadata": {},
   "outputs": [
    {
     "name": "stdout",
     "output_type": "stream",
     "text": [
      "[[1. 1. 1.]\n",
      " [1. 1. 1.]]\n",
      "[[0. 0. 0.]\n",
      " [0. 0. 0.]]\n",
      "[[0. 0. 0.]\n",
      " [0. 0. 0.]]\n"
     ]
    }
   ],
   "source": [
    "#产生特殊元素矩阵\n",
    "print(np.ones((2,3)))\n",
    "print(np.zeros((2,3)))\n",
    "print(np.empty((2,3)))               #empty等同于zeros"
   ]
  },
  {
   "cell_type": "code",
   "execution_count": 26,
   "metadata": {},
   "outputs": [
    {
     "data": {
      "text/plain": [
       "<Figure size 640x480 with 1 Axes>"
      ]
     },
     "metadata": {},
     "output_type": "display_data"
    }
   ],
   "source": [
    "#生成数组网格\n",
    "x=np.arange(-10,10,.5)\n",
    "y=np.arange(-10,10,.5)\n",
    "X,Y=np.meshgrid(x,y)\n",
    "Z=pow(X,2)+pow(Y,2)\n",
    "#更详细地观看图形\n",
    "from mpl_toolkits.mplot3d import axes3d\n",
    "import matplotlib.pyplot as plt\n",
    "fig=plt.figure()                                 #创造图形\n",
    "a=fig.add_subplot(111,projection='3d')          #设计图形的布局\n",
    "a.plot_wireframe(X,Y,Z,rstride=5,cstride=5)     #画图\n",
    "plt.show()"
   ]
  },
  {
   "cell_type": "code",
   "execution_count": 30,
   "metadata": {},
   "outputs": [
    {
     "name": "stdout",
     "output_type": "stream",
     "text": [
      "[[1. 0. 0. 0. 0.]\n",
      " [0. 1. 0. 0. 0.]\n",
      " [0. 0. 1. 0. 0.]\n",
      " [0. 0. 0. 1. 0.]\n",
      " [0. 0. 0. 0. 1.]]\n",
      "[[ 10   2   7]\n",
      " [  3   8  99]\n",
      " [  5   6  77]\n",
      " [ 10   2 100]] [10  8 77]\n",
      "[[10  2  7]\n",
      " [ 0  8 99]\n",
      " [ 0  0 77]\n",
      " [ 0  0  0]] \n",
      "\n",
      " [[ 10   0   0]\n",
      " [  3   8   0]\n",
      " [  5   6  77]\n",
      " [ 10   2 100]]\n"
     ]
    }
   ],
   "source": [
    "#对角矩阵和三角矩阵\n",
    "print(np.eye(5))                               #5维矩阵，对角元素为1\n",
    "x=np.array([[10,2,7],[3,8,99],[5,6,77],[10,2,100]])\n",
    "print(x,np.diag(x))\n",
    "print(np.triu(x),'\\n'*2,np.tril(x))"
   ]
  },
  {
   "cell_type": "code",
   "execution_count": 31,
   "metadata": {},
   "outputs": [
    {
     "name": "stdout",
     "output_type": "stream",
     "text": [
      "[   7   22   65  154  307  542  877 1330 1919]\n",
      "   3     2\n",
      "3 x - 4 x + 6 x + 2\n",
      "      4         3     2\n",
      "0.75 x - 1.333 x + 3 x + 2 x + 4\n",
      "   2\n",
      "9 x - 8 x + 6\n"
     ]
    }
   ],
   "source": [
    "#多项式运算\n",
    "p=np.poly1d([3,-4,6,2])                      #三元一次方程p=3x³-4x²+6x+2\n",
    "print(p(np.arange(1,10,1)))                  #输出x取值为1-9时p的值\n",
    "print(p)\n",
    "print(p.integ(k=4))                          #对p做积分，积分常数为4\n",
    "print(p.deriv())                             #对p求导"
   ]
  }
 ],
 "metadata": {
  "kernelspec": {
   "display_name": "Python 3",
   "language": "python",
   "name": "python3"
  },
  "language_info": {
   "codemirror_mode": {
    "name": "ipython",
    "version": 3
   },
   "file_extension": ".py",
   "mimetype": "text/x-python",
   "name": "python",
   "nbconvert_exporter": "python",
   "pygments_lexer": "ipython3",
   "version": "3.7.3"
  },
  "toc": {
   "base_numbering": 1,
   "nav_menu": {},
   "number_sections": true,
   "sideBar": true,
   "skip_h1_title": false,
   "title_cell": "Table of Contents",
   "title_sidebar": "Contents",
   "toc_cell": false,
   "toc_position": {},
   "toc_section_display": true,
   "toc_window_display": false
  },
  "varInspector": {
   "cols": {
    "lenName": 16,
    "lenType": 16,
    "lenVar": 40
   },
   "kernels_config": {
    "python": {
     "delete_cmd_postfix": "",
     "delete_cmd_prefix": "del ",
     "library": "var_list.py",
     "varRefreshCmd": "print(var_dic_list())"
    },
    "r": {
     "delete_cmd_postfix": ") ",
     "delete_cmd_prefix": "rm(",
     "library": "var_list.r",
     "varRefreshCmd": "cat(var_dic_list()) "
    }
   },
   "types_to_exclude": [
    "module",
    "function",
    "builtin_function_or_method",
    "instance",
    "_Feature"
   ],
   "window_display": false
  }
 },
 "nbformat": 4,
 "nbformat_minor": 2
}

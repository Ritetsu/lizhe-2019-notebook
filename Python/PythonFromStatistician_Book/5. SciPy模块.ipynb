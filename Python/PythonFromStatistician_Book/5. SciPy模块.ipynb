{
 "cells": [
  {
   "cell_type": "code",
   "execution_count": 1,
   "metadata": {},
   "outputs": [
    {
     "data": {
      "text/plain": [
       "(345.3333333333333, 3.84235665515762e-12)"
      ]
     },
     "execution_count": 1,
     "metadata": {},
     "output_type": "execute_result"
    }
   ],
   "source": [
    "import scipy.stats as stats\n",
    "import numpy as np\n",
    "import matplotlib\n",
    "import matplotlib.pyplot as plt\n",
    "%matplotlib inline\n",
    "import pandas as pd\n",
    "#主要介绍与统计相关的一些应用\n",
    "\n",
    "#常用的随机变量分布及随机数生成\n",
    "#！\n",
    "\n",
    "#定积分计算\n",
    "from scipy import integrate\n",
    "f=lambda x:6*x**3-2*x**2+x-1         #定义被积函数f\n",
    "integrate.quad(f,0,4)                  #进f从0到4的积分\n",
    "#结果第1个数字是积分结果，第2个数字是误差"
   ]
  },
  {
   "cell_type": "code",
   "execution_count": 7,
   "metadata": {},
   "outputs": [],
   "source": [
    "#有参数的积分→定义函数+向量化解决\n",
    "def g(t,n,x):\n",
    "    return np.exp(-x*t)/t**n\n",
    "def gint(n,x):\n",
    "    return integrate.quad(g,1,np.inf,args=(n,x))[0]\n",
    "vec_gint=np.vectorize(gint)           #向量化\n",
    "vec_gint(5,[4.3,3.1,0.2,0.21])        #实现对n=5及4个不同的x值进行积分\n",
    "\n",
    "#若想对上述积分再进行一次积分\n",
    "integrate.quad(lambda x: gint(4,x),0,np.inf)\n",
    "\n",
    "#二重积分还可以用dblquad()函数，(1/3,y=0),(1-3y,x=0),xydxdy\n",
    "#integrate.dblquad(lambda x,y:x*y,0,1/3.,lambda x:0,1,lambda x:1-3.*x)\n",
    "\n",
    "#n重积分还可以用nquad()函数\n",
    "def f(x,y):return x*y\n",
    "def by():return [0,1/3.]\n",
    "def bx(y):return [0,1-3.*y]\n",
    "integrate.nquad(f,[bx,by])"
   ]
  }
 ],
 "metadata": {
  "kernelspec": {
   "display_name": "Python 3",
   "language": "python",
   "name": "python3"
  },
  "language_info": {
   "codemirror_mode": {
    "name": "ipython",
    "version": 3
   },
   "file_extension": ".py",
   "mimetype": "text/x-python",
   "name": "python",
   "nbconvert_exporter": "python",
   "pygments_lexer": "ipython3",
   "version": "3.7.0"
  }
 },
 "nbformat": 4,
 "nbformat_minor": 2
}

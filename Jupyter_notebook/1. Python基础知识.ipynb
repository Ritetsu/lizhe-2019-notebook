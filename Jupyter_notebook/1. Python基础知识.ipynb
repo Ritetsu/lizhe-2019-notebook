{
 "cells": [
  {
   "cell_type": "code",
   "execution_count": 1,
   "metadata": {},
   "outputs": [
    {
     "data": {
      "text/plain": [
       "'Python is easy!Python is easy!Python is easy!'"
      ]
     },
     "execution_count": 1,
     "metadata": {},
     "output_type": "execute_result"
    }
   ],
   "source": [
    "3*'Python is easy!'"
   ]
  },
  {
   "cell_type": "code",
   "execution_count": 2,
   "metadata": {},
   "outputs": [
    {
     "name": "stdout",
     "output_type": "stream",
     "text": [
      "F:\\_the_4th\\Jupyter_notebook\n"
     ]
    }
   ],
   "source": [
    "import os\n",
    "print(os.getcwd())                            #查看当前工作目录\n",
    "os.chdir('F:/_the_4th/Jupyter_notebook')      #切换工作目录（注意windows中是\\而这里是/）\n",
    "os.mkdir('work2')\n",
    "os.mkdir('work1')\n",
    "os.rmdir('work2')                             #必须是空的才可以直接rm\n",
    "os.rename('work1','work3')\n",
    "os.remove('h.txt')                            #remove是删除文件，rmdir是删除文件夹"
   ]
  },
  {
   "cell_type": "code",
   "execution_count": 8,
   "metadata": {},
   "outputs": [
    {
     "name": "stdout",
     "output_type": "stream",
     "text": [
      "[3, 5, 7, [99, 98]]\n"
     ]
    }
   ],
   "source": [
    "#list中元素的增减\n",
    "x=[3,5,7];y=[99,98]\n",
    "x.append(y)\n",
    "print(x)"
   ]
  },
  {
   "cell_type": "code",
   "execution_count": 9,
   "metadata": {},
   "outputs": [
    {
     "name": "stdout",
     "output_type": "stream",
     "text": [
      "[3, 5, 7, [99, 98], 99, 98]\n"
     ]
    }
   ],
   "source": [
    "x.extend(y)\n",
    "print(x)"
   ]
  },
  {
   "cell_type": "code",
   "execution_count": 10,
   "metadata": {},
   "outputs": [
    {
     "data": {
      "text/plain": [
       "98"
      ]
     },
     "execution_count": 10,
     "metadata": {},
     "output_type": "execute_result"
    }
   ],
   "source": [
    "x.pop()"
   ]
  },
  {
   "cell_type": "code",
   "execution_count": 11,
   "metadata": {},
   "outputs": [
    {
     "name": "stdout",
     "output_type": "stream",
     "text": [
      "[3, 5, 7, [99, 98], 99]\n"
     ]
    }
   ],
   "source": [
    "print(x)"
   ]
  },
  {
   "cell_type": "code",
   "execution_count": 12,
   "metadata": {},
   "outputs": [
    {
     "name": "stdout",
     "output_type": "stream",
     "text": [
      "[3, 5, [99, 98], 99]\n"
     ]
    }
   ],
   "source": [
    "x.pop(2)\n",
    "print(x)"
   ]
  },
  {
   "cell_type": "code",
   "execution_count": 13,
   "metadata": {},
   "outputs": [
    {
     "name": "stdout",
     "output_type": "stream",
     "text": [
      "[3, [99, 98], 99]\n"
     ]
    }
   ],
   "source": [
    "x.remove(5)                                 #如有重复内容，每次去掉下标最小的\n",
    "print(x)"
   ]
  },
  {
   "cell_type": "code",
   "execution_count": 16,
   "metadata": {},
   "outputs": [
    {
     "name": "stdout",
     "output_type": "stream",
     "text": [
      "1\n",
      "3\n",
      "7\n",
      "13\n",
      "21\n"
     ]
    }
   ],
   "source": [
    "#for循环的简化写法\n",
    "for i in map(lambda x:x**2+1-abs(x),[1,2,3,4,5]):\n",
    "    print(i)"
   ]
  },
  {
   "cell_type": "code",
   "execution_count": 18,
   "metadata": {},
   "outputs": [
    {
     "name": "stdout",
     "output_type": "stream",
     "text": [
      "[1, 3, 5, 7]\n"
     ]
    }
   ],
   "source": [
    "print(list(filter(lambda x: x%2!=0,range(1,9))))#筛选奇数"
   ]
  },
  {
   "cell_type": "code",
   "execution_count": 19,
   "metadata": {},
   "outputs": [
    {
     "name": "stdout",
     "output_type": "stream",
     "text": [
      "19\n",
      "love\n",
      "[7, 2, 6, 5, 8]\n",
      "0.43351443489540376\n",
      "4.400061371400283\n",
      "0.9996403404311938\n"
     ]
    }
   ],
   "source": [
    "#伪随机模块random\n",
    "import random as r\n",
    "r.seed(100)                                        #设定种子以保证每次随机结果一致\n",
    "print(r.randint(1,100))                            #随机取整 \n",
    "print(r.choice([1,2,3,'love','peace']))            #随机从列表抽选\n",
    "print(r.sample(range(10),5))                       #随机从0-9中，抽5个\n",
    "print(r.random())                                  #随机产生[0.0,1)\n",
    "print(r.uniform(2,5))                              #随机产生2,5间的均匀分布随机数\n",
    "print(r.gauss(3,5))                                #随机产生均值=3，标准差=5的正态分布随机数\n"
   ]
  },
  {
   "cell_type": "markdown",
   "metadata": {},
   "source": [
    "* 需要集合运算时，可将list转化为集合，运算后转回list。\n",
    "\n",
    "x=set()\n",
    "\n",
    "y=set.difference 差/.union 并/.intersection(set1,set2)交\n",
    "\n",
    "x=list(y)"
   ]
  },
  {
   "cell_type": "code",
   "execution_count": 21,
   "metadata": {},
   "outputs": [],
   "source": [
    "# 文件的开关读入输出\n",
    "a=open('new1.txt','w')                             #写入模式打开，如不存在则新建\n",
    "a.write('A line has A')                            #写入\n",
    "a.write('B line has B')\n",
    "a.close()                                          #关闭文件好习惯\n",
    "#注意a.name ; a.encoding ; a.mode 可以分别查看a的文件名，编码和读取模式"
   ]
  },
  {
   "cell_type": "code",
   "execution_count": 23,
   "metadata": {},
   "outputs": [
    {
     "name": "stdout",
     "output_type": "stream",
     "text": [
      "A line has AB line has B\n"
     ]
    }
   ],
   "source": [
    "a=open('new1.txt')\n",
    "for i in a.readlines():\n",
    "    print(i)\n",
    "#print(a.readlines()[8].split()[7])             #这一句输出的是a的第9行第7个词！\n",
    "a.close()"
   ]
  }
 ],
 "metadata": {
  "kernelspec": {
   "display_name": "Python 3",
   "language": "python",
   "name": "python3"
  },
  "language_info": {
   "codemirror_mode": {
    "name": "ipython",
    "version": 3
   },
   "file_extension": ".py",
   "mimetype": "text/x-python",
   "name": "python",
   "nbconvert_exporter": "python",
   "pygments_lexer": "ipython3",
   "version": "3.7.0"
  }
 },
 "nbformat": 4,
 "nbformat_minor": 2
}
